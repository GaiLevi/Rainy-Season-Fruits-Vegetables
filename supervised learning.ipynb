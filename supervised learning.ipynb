{
 "cells": [
  {
   "cell_type": "code",
   "execution_count": 1,
   "id": "3137abc1",
   "metadata": {},
   "outputs": [
    {
     "data": {
      "text/html": [
       "<div>\n",
       "<style scoped>\n",
       "    .dataframe tbody tr th:only-of-type {\n",
       "        vertical-align: middle;\n",
       "    }\n",
       "\n",
       "    .dataframe tbody tr th {\n",
       "        vertical-align: top;\n",
       "    }\n",
       "\n",
       "    .dataframe thead th {\n",
       "        text-align: right;\n",
       "    }\n",
       "</style>\n",
       "<table border=\"1\" class=\"dataframe\">\n",
       "  <thead>\n",
       "    <tr style=\"text-align: right;\">\n",
       "      <th></th>\n",
       "      <th>Banana A</th>\n",
       "      <th>Banana B</th>\n",
       "      <th>Carrot A</th>\n",
       "      <th>Carrot B</th>\n",
       "      <th>Cucumber A</th>\n",
       "      <th>Cucumber B</th>\n",
       "      <th>Green Apple A</th>\n",
       "      <th>Green Apple B</th>\n",
       "      <th>Green Cabbage A</th>\n",
       "      <th>Green Cabbage B</th>\n",
       "      <th>...</th>\n",
       "      <th>Tomatoe A</th>\n",
       "      <th>Tomatoe B</th>\n",
       "      <th>Yellow Pepper A</th>\n",
       "      <th>Yellow Pepper B</th>\n",
       "      <th>month</th>\n",
       "      <th>year</th>\n",
       "      <th>rain_days_num</th>\n",
       "      <th>rain_max_code</th>\n",
       "      <th>max_val</th>\n",
       "      <th>rain_ttl</th>\n",
       "    </tr>\n",
       "  </thead>\n",
       "  <tbody>\n",
       "    <tr>\n",
       "      <th>0</th>\n",
       "      <td>3.861111</td>\n",
       "      <td>4.081111</td>\n",
       "      <td>2.611111</td>\n",
       "      <td>3.771111</td>\n",
       "      <td>3.861111</td>\n",
       "      <td>4.135556</td>\n",
       "      <td>4.798235</td>\n",
       "      <td>6.982353</td>\n",
       "      <td>3.594444</td>\n",
       "      <td>4.846111</td>\n",
       "      <td>...</td>\n",
       "      <td>5.798333</td>\n",
       "      <td>6.483333</td>\n",
       "      <td>5.683333</td>\n",
       "      <td>6.972222</td>\n",
       "      <td>1</td>\n",
       "      <td>2016</td>\n",
       "      <td>10.142857</td>\n",
       "      <td>0.714286</td>\n",
       "      <td>30.652381</td>\n",
       "      <td>108.157143</td>\n",
       "    </tr>\n",
       "    <tr>\n",
       "      <th>1</th>\n",
       "      <td>5.146154</td>\n",
       "      <td>5.366154</td>\n",
       "      <td>2.346154</td>\n",
       "      <td>3.506154</td>\n",
       "      <td>4.353846</td>\n",
       "      <td>4.213846</td>\n",
       "      <td>4.029231</td>\n",
       "      <td>6.407692</td>\n",
       "      <td>2.130769</td>\n",
       "      <td>4.400769</td>\n",
       "      <td>...</td>\n",
       "      <td>2.842308</td>\n",
       "      <td>3.838462</td>\n",
       "      <td>5.213077</td>\n",
       "      <td>7.976923</td>\n",
       "      <td>2</td>\n",
       "      <td>2016</td>\n",
       "      <td>5.428571</td>\n",
       "      <td>0.476190</td>\n",
       "      <td>33.480952</td>\n",
       "      <td>71.504762</td>\n",
       "    </tr>\n",
       "    <tr>\n",
       "      <th>2</th>\n",
       "      <td>5.766667</td>\n",
       "      <td>5.986667</td>\n",
       "      <td>2.075000</td>\n",
       "      <td>3.235000</td>\n",
       "      <td>3.933333</td>\n",
       "      <td>3.793333</td>\n",
       "      <td>4.015000</td>\n",
       "      <td>6.366667</td>\n",
       "      <td>1.366667</td>\n",
       "      <td>3.636667</td>\n",
       "      <td>...</td>\n",
       "      <td>1.653333</td>\n",
       "      <td>2.850000</td>\n",
       "      <td>5.030833</td>\n",
       "      <td>7.891667</td>\n",
       "      <td>3</td>\n",
       "      <td>2016</td>\n",
       "      <td>7.571429</td>\n",
       "      <td>1.285714</td>\n",
       "      <td>14.571429</td>\n",
       "      <td>32.585714</td>\n",
       "    </tr>\n",
       "    <tr>\n",
       "      <th>3</th>\n",
       "      <td>6.292857</td>\n",
       "      <td>6.512857</td>\n",
       "      <td>1.992857</td>\n",
       "      <td>3.152857</td>\n",
       "      <td>2.807143</td>\n",
       "      <td>2.667143</td>\n",
       "      <td>4.087143</td>\n",
       "      <td>6.792857</td>\n",
       "      <td>0.992857</td>\n",
       "      <td>3.262857</td>\n",
       "      <td>...</td>\n",
       "      <td>3.182857</td>\n",
       "      <td>4.864286</td>\n",
       "      <td>4.085714</td>\n",
       "      <td>6.978571</td>\n",
       "      <td>4</td>\n",
       "      <td>2016</td>\n",
       "      <td>2.904762</td>\n",
       "      <td>1.523810</td>\n",
       "      <td>16.280952</td>\n",
       "      <td>21.333333</td>\n",
       "    </tr>\n",
       "    <tr>\n",
       "      <th>4</th>\n",
       "      <td>6.407692</td>\n",
       "      <td>6.627692</td>\n",
       "      <td>1.969231</td>\n",
       "      <td>3.129231</td>\n",
       "      <td>4.153846</td>\n",
       "      <td>4.013846</td>\n",
       "      <td>4.242308</td>\n",
       "      <td>7.176923</td>\n",
       "      <td>1.323077</td>\n",
       "      <td>3.593077</td>\n",
       "      <td>...</td>\n",
       "      <td>2.460769</td>\n",
       "      <td>3.484615</td>\n",
       "      <td>5.653846</td>\n",
       "      <td>8.723077</td>\n",
       "      <td>5</td>\n",
       "      <td>2016</td>\n",
       "      <td>1.619048</td>\n",
       "      <td>1.476190</td>\n",
       "      <td>1.357143</td>\n",
       "      <td>2.457143</td>\n",
       "    </tr>\n",
       "    <tr>\n",
       "      <th>...</th>\n",
       "      <td>...</td>\n",
       "      <td>...</td>\n",
       "      <td>...</td>\n",
       "      <td>...</td>\n",
       "      <td>...</td>\n",
       "      <td>...</td>\n",
       "      <td>...</td>\n",
       "      <td>...</td>\n",
       "      <td>...</td>\n",
       "      <td>...</td>\n",
       "      <td>...</td>\n",
       "      <td>...</td>\n",
       "      <td>...</td>\n",
       "      <td>...</td>\n",
       "      <td>...</td>\n",
       "      <td>...</td>\n",
       "      <td>...</td>\n",
       "      <td>...</td>\n",
       "      <td>...</td>\n",
       "      <td>...</td>\n",
       "      <td>...</td>\n",
       "    </tr>\n",
       "    <tr>\n",
       "      <th>64</th>\n",
       "      <td>2.231333</td>\n",
       "      <td>3.443333</td>\n",
       "      <td>2.482667</td>\n",
       "      <td>3.775333</td>\n",
       "      <td>2.978667</td>\n",
       "      <td>2.838667</td>\n",
       "      <td>5.770000</td>\n",
       "      <td>8.500000</td>\n",
       "      <td>1.760000</td>\n",
       "      <td>4.030000</td>\n",
       "      <td>...</td>\n",
       "      <td>3.156000</td>\n",
       "      <td>4.652667</td>\n",
       "      <td>5.770667</td>\n",
       "      <td>8.736000</td>\n",
       "      <td>5</td>\n",
       "      <td>2021</td>\n",
       "      <td>0.000000</td>\n",
       "      <td>0.000000</td>\n",
       "      <td>0.000000</td>\n",
       "      <td>0.000000</td>\n",
       "    </tr>\n",
       "    <tr>\n",
       "      <th>65</th>\n",
       "      <td>2.076667</td>\n",
       "      <td>3.090000</td>\n",
       "      <td>2.428333</td>\n",
       "      <td>3.983889</td>\n",
       "      <td>3.896111</td>\n",
       "      <td>3.756111</td>\n",
       "      <td>5.770000</td>\n",
       "      <td>8.500000</td>\n",
       "      <td>1.656111</td>\n",
       "      <td>3.926111</td>\n",
       "      <td>...</td>\n",
       "      <td>3.166111</td>\n",
       "      <td>4.762222</td>\n",
       "      <td>4.687778</td>\n",
       "      <td>7.410556</td>\n",
       "      <td>6</td>\n",
       "      <td>2021</td>\n",
       "      <td>0.000000</td>\n",
       "      <td>0.000000</td>\n",
       "      <td>0.000000</td>\n",
       "      <td>0.000000</td>\n",
       "    </tr>\n",
       "    <tr>\n",
       "      <th>66</th>\n",
       "      <td>4.068889</td>\n",
       "      <td>6.138889</td>\n",
       "      <td>2.548333</td>\n",
       "      <td>4.113333</td>\n",
       "      <td>4.144444</td>\n",
       "      <td>4.004444</td>\n",
       "      <td>5.770000</td>\n",
       "      <td>8.500000</td>\n",
       "      <td>2.397778</td>\n",
       "      <td>4.667778</td>\n",
       "      <td>...</td>\n",
       "      <td>2.568333</td>\n",
       "      <td>4.025556</td>\n",
       "      <td>4.123889</td>\n",
       "      <td>6.569444</td>\n",
       "      <td>7</td>\n",
       "      <td>2021</td>\n",
       "      <td>0.111111</td>\n",
       "      <td>0.000000</td>\n",
       "      <td>0.044444</td>\n",
       "      <td>0.044444</td>\n",
       "    </tr>\n",
       "    <tr>\n",
       "      <th>67</th>\n",
       "      <td>3.416500</td>\n",
       "      <td>5.501500</td>\n",
       "      <td>3.169500</td>\n",
       "      <td>3.756000</td>\n",
       "      <td>4.393500</td>\n",
       "      <td>4.253500</td>\n",
       "      <td>5.770000</td>\n",
       "      <td>8.500000</td>\n",
       "      <td>2.761000</td>\n",
       "      <td>5.031000</td>\n",
       "      <td>...</td>\n",
       "      <td>3.051000</td>\n",
       "      <td>5.156500</td>\n",
       "      <td>3.397500</td>\n",
       "      <td>6.231000</td>\n",
       "      <td>8</td>\n",
       "      <td>2021</td>\n",
       "      <td>0.000000</td>\n",
       "      <td>0.000000</td>\n",
       "      <td>0.000000</td>\n",
       "      <td>0.000000</td>\n",
       "    </tr>\n",
       "    <tr>\n",
       "      <th>68</th>\n",
       "      <td>3.010909</td>\n",
       "      <td>4.595455</td>\n",
       "      <td>3.404545</td>\n",
       "      <td>4.298182</td>\n",
       "      <td>4.192727</td>\n",
       "      <td>4.052727</td>\n",
       "      <td>5.774545</td>\n",
       "      <td>8.504545</td>\n",
       "      <td>4.980909</td>\n",
       "      <td>7.250909</td>\n",
       "      <td>...</td>\n",
       "      <td>3.706364</td>\n",
       "      <td>6.062727</td>\n",
       "      <td>4.585455</td>\n",
       "      <td>8.521818</td>\n",
       "      <td>9</td>\n",
       "      <td>2021</td>\n",
       "      <td>0.894737</td>\n",
       "      <td>1.368421</td>\n",
       "      <td>1.000000</td>\n",
       "      <td>1.184211</td>\n",
       "    </tr>\n",
       "  </tbody>\n",
       "</table>\n",
       "<p>69 rows × 33 columns</p>\n",
       "</div>"
      ],
      "text/plain": [
       "    Banana A  Banana B  Carrot A  Carrot B  Cucumber A  Cucumber B  \\\n",
       "0   3.861111  4.081111  2.611111  3.771111    3.861111    4.135556   \n",
       "1   5.146154  5.366154  2.346154  3.506154    4.353846    4.213846   \n",
       "2   5.766667  5.986667  2.075000  3.235000    3.933333    3.793333   \n",
       "3   6.292857  6.512857  1.992857  3.152857    2.807143    2.667143   \n",
       "4   6.407692  6.627692  1.969231  3.129231    4.153846    4.013846   \n",
       "..       ...       ...       ...       ...         ...         ...   \n",
       "64  2.231333  3.443333  2.482667  3.775333    2.978667    2.838667   \n",
       "65  2.076667  3.090000  2.428333  3.983889    3.896111    3.756111   \n",
       "66  4.068889  6.138889  2.548333  4.113333    4.144444    4.004444   \n",
       "67  3.416500  5.501500  3.169500  3.756000    4.393500    4.253500   \n",
       "68  3.010909  4.595455  3.404545  4.298182    4.192727    4.052727   \n",
       "\n",
       "    Green Apple A  Green Apple B  Green Cabbage A  Green Cabbage B  ...  \\\n",
       "0        4.798235       6.982353         3.594444         4.846111  ...   \n",
       "1        4.029231       6.407692         2.130769         4.400769  ...   \n",
       "2        4.015000       6.366667         1.366667         3.636667  ...   \n",
       "3        4.087143       6.792857         0.992857         3.262857  ...   \n",
       "4        4.242308       7.176923         1.323077         3.593077  ...   \n",
       "..            ...            ...              ...              ...  ...   \n",
       "64       5.770000       8.500000         1.760000         4.030000  ...   \n",
       "65       5.770000       8.500000         1.656111         3.926111  ...   \n",
       "66       5.770000       8.500000         2.397778         4.667778  ...   \n",
       "67       5.770000       8.500000         2.761000         5.031000  ...   \n",
       "68       5.774545       8.504545         4.980909         7.250909  ...   \n",
       "\n",
       "    Tomatoe A  Tomatoe B  Yellow Pepper A  Yellow Pepper B  month  year  \\\n",
       "0    5.798333   6.483333         5.683333         6.972222      1  2016   \n",
       "1    2.842308   3.838462         5.213077         7.976923      2  2016   \n",
       "2    1.653333   2.850000         5.030833         7.891667      3  2016   \n",
       "3    3.182857   4.864286         4.085714         6.978571      4  2016   \n",
       "4    2.460769   3.484615         5.653846         8.723077      5  2016   \n",
       "..        ...        ...              ...              ...    ...   ...   \n",
       "64   3.156000   4.652667         5.770667         8.736000      5  2021   \n",
       "65   3.166111   4.762222         4.687778         7.410556      6  2021   \n",
       "66   2.568333   4.025556         4.123889         6.569444      7  2021   \n",
       "67   3.051000   5.156500         3.397500         6.231000      8  2021   \n",
       "68   3.706364   6.062727         4.585455         8.521818      9  2021   \n",
       "\n",
       "    rain_days_num  rain_max_code    max_val    rain_ttl  \n",
       "0       10.142857       0.714286  30.652381  108.157143  \n",
       "1        5.428571       0.476190  33.480952   71.504762  \n",
       "2        7.571429       1.285714  14.571429   32.585714  \n",
       "3        2.904762       1.523810  16.280952   21.333333  \n",
       "4        1.619048       1.476190   1.357143    2.457143  \n",
       "..            ...            ...        ...         ...  \n",
       "64       0.000000       0.000000   0.000000    0.000000  \n",
       "65       0.000000       0.000000   0.000000    0.000000  \n",
       "66       0.111111       0.000000   0.044444    0.044444  \n",
       "67       0.000000       0.000000   0.000000    0.000000  \n",
       "68       0.894737       1.368421   1.000000    1.184211  \n",
       "\n",
       "[69 rows x 33 columns]"
      ]
     },
     "execution_count": 1,
     "metadata": {},
     "output_type": "execute_result"
    }
   ],
   "source": [
    "import numpy as np\n",
    "import pandas as pd\n",
    "from sklearn import linear_model\n",
    "\n",
    "\n",
    "#and visualization setup\n",
    "import matplotlib.pyplot as plt\n",
    "%matplotlib inline\n",
    "plt.rcParams['figure.figsize'] = (10, 6)\n",
    "\n",
    "from mpl_toolkits.mplot3d import Axes3D\n",
    "from matplotlib import cm\n",
    "\n",
    "rains_vegs = pd.read_csv ('rains_vegs.csv')\n",
    "rains_vegs=rains_vegs.fillna(0)\n",
    "rains_vegs"
   ]
  },
  {
   "cell_type": "code",
   "execution_count": 2,
   "id": "0e04d6fd",
   "metadata": {},
   "outputs": [
    {
     "data": {
      "image/png": "[encoded data removed]",
      "text/plain": [
       "<Figure size 720x432 with 1 Axes>"
      ]
     },
     "metadata": {
      "needs_background": "light"
     },
     "output_type": "display_data"
    }
   ],
   "source": [
    "plt.scatter(x=rains_vegs['Banana A'],y=rains_vegs['rain_ttl'],c='r',marker='s',label='Banana')\n",
    "plt.scatter(x=rains_vegs['Yellow Pepper B'],y=rains_vegs['rain_ttl'],c='b',marker='o',label=' Yellow Pepper')\n",
    "plt.scatter(x=rains_vegs['Tomatoe B'],y=rains_vegs['rain_ttl'],c='k',marker='*',label='Tomatoe ')\n",
    "plt.scatter(x=rains_vegs['Carrot B'],y=rains_vegs['rain_ttl'],c='k',marker='+',label='Carrot ')\n",
    "plt.legend(numpoints=1,loc=4)\n",
    "plt.xlabel('price of veg')\n",
    "plt.ylabel('sum of rain')\n",
    "plt.show()"
   ]
  },
  {
   "cell_type": "code",
   "execution_count": 3,
   "id": "2922edfc",
   "metadata": {},
   "outputs": [],
   "source": [
    "m=linear_model.LinearRegression().fit(rains_vegs.iloc[:,0:1],rains_vegs.iloc[:,32:])\n"
   ]
  },
  {
   "cell_type": "code",
   "execution_count": 4,
   "id": "42f7be0a",
   "metadata": {
    "scrolled": false
   },
   "outputs": [
    {
     "data": {
      "image/png": "[encoded data removed]",
      "text/plain": [
       "<Figure size 720x432 with 1 Axes>"
      ]
     },
     "metadata": {
      "needs_background": "light"
     },
     "output_type": "display_data"
    }
   ],
   "source": [
    "plt.scatter(x=rains_vegs['Banana A'],y=rains_vegs['rain_ttl'],c='r',marker='s',label='Banana')\n",
    "plt.plot(rains_vegs['Banana A'],m.predict(rains_vegs.iloc[:,:1]),'k',color='blue',linewidth=2)\n",
    "\n",
    "plt.xlabel('price of veg')\n",
    "plt.ylabel('sum of rain')\n",
    "plt.show()"
   ]
  },
  {
   "cell_type": "code",
   "execution_count": 5,
   "id": "f24aa8a9",
   "metadata": {},
   "outputs": [
    {
     "name": "stdout",
     "output_type": "stream",
     "text": [
      "b1: [[-7.76531832]]\n",
      "b0: [68.29144805]\n"
     ]
    }
   ],
   "source": [
    "print(\"b1:\",m.coef_)\n",
    "print(\"b0:\",m.intercept_)"
   ]
  },
  {
   "cell_type": "code",
   "execution_count": 6,
   "id": "4ced61de",
   "metadata": {},
   "outputs": [
    {
     "data": {
      "text/plain": [
       "123326.20840104244"
      ]
     },
     "execution_count": 6,
     "metadata": {},
     "output_type": "execute_result"
    }
   ],
   "source": [
    "from sklearn.metrics import mean_squared_error\n",
    "mean_squared_error(rains_vegs.rain_ttl.tolist(),m.predict(rains_vegs.iloc[:,0:1]).flatten())*len(rains_vegs.rain_ttl.tolist())\n"
   ]
  },
  {
   "cell_type": "code",
   "execution_count": 7,
   "id": "3a04b7be",
   "metadata": {},
   "outputs": [
    {
     "data": {
      "text/plain": [
       "0.1197288887081398"
      ]
     },
     "execution_count": 7,
     "metadata": {},
     "output_type": "execute_result"
    }
   ],
   "source": [
    "from sklearn.metrics import r2_score\n",
    "r2_score(rains_vegs.rain_ttl.tolist(),m.predict(rains_vegs.iloc[:,0:1]).flatten())\n"
   ]
  },
  {
   "cell_type": "code",
   "execution_count": 8,
   "id": "b03c1c40",
   "metadata": {},
   "outputs": [
    {
     "data": {
      "image/png": "[encoded data removed]",
      "text/plain": [
       "<Figure size 720x432 with 1 Axes>"
      ]
     },
     "metadata": {
      "needs_background": "light"
     },
     "output_type": "display_data"
    }
   ],
   "source": [
    "Z=linear_model.LinearRegression().fit(rains_vegs.iloc[:,9:10],rains_vegs.iloc[:,32:])\n",
    "plt.scatter(x=rains_vegs['Green Cabbage B'],y=rains_vegs['rain_ttl'],c='r',marker='s',label='Banana B')\n",
    "plt.plot(rains_vegs['Green Cabbage B'],Z.predict(rains_vegs.iloc[:,9:10]),'k',color='blue',linewidth=1)\n",
    "\n",
    "plt.xlabel('price of veg')\n",
    "plt.ylabel('sum of rain')\n",
    "plt.show()"
   ]
  },
  {
   "cell_type": "code",
   "execution_count": 9,
   "id": "837e9da1",
   "metadata": {},
   "outputs": [
    {
     "name": "stdout",
     "output_type": "stream",
     "text": [
      "b1: [[-6.32741322]]\n",
      "b0: [60.55927316]\n"
     ]
    }
   ],
   "source": [
    "print(\"b1:\",Z.coef_)\n",
    "print(\"b0:\",Z.intercept_)"
   ]
  },
  {
   "cell_type": "code",
   "execution_count": 10,
   "id": "c9336980",
   "metadata": {},
   "outputs": [
    {
     "data": {
      "text/plain": [
       "123979.6918895945"
      ]
     },
     "execution_count": 10,
     "metadata": {},
     "output_type": "execute_result"
    }
   ],
   "source": [
    "mean_squared_error(rains_vegs.rain_ttl.tolist(),Z.predict(rains_vegs.iloc[:,0:1]).flatten())*len(rains_vegs.rain_ttl.tolist())\n"
   ]
  },
  {
   "cell_type": "code",
   "execution_count": 11,
   "id": "ba5678d3",
   "metadata": {},
   "outputs": [
    {
     "data": {
      "text/plain": [
       "0.11506448976052941"
      ]
     },
     "execution_count": 11,
     "metadata": {},
     "output_type": "execute_result"
    }
   ],
   "source": [
    "r2_score(rains_vegs.rain_ttl.tolist(),Z.predict(rains_vegs.iloc[:,0:1]).flatten())\n"
   ]
  },
  {
   "cell_type": "code",
   "execution_count": null,
   "id": "baf402d3",
   "metadata": {},
   "outputs": [],
   "source": []
  },
  {
   "cell_type": "code",
   "execution_count": null,
   "id": "a9ee0644",
   "metadata": {},
   "outputs": [],
   "source": []
  }
 ],
 "metadata": {
  "kernelspec": {
   "display_name": "Python 3",
   "language": "python",
   "name": "python3"
  },
  "language_info": {
   "codemirror_mode": {
    "name": "ipython",
    "version": 3
   },
   "file_extension": ".py",
   "mimetype": "text/x-python",
   "name": "python",
   "nbconvert_exporter": "python",
   "pygments_lexer": "ipython3",
   "version": "3.8.8"
  }
 },
 "nbformat": 4,
 "nbformat_minor": 5
}
